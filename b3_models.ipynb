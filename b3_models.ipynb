{
 "cells": [
  {
   "cell_type": "markdown",
   "metadata": {},
   "source": [
    "<h1><center>Case Study - B3</center></h1>"
   ]
  },
  {
   "cell_type": "markdown",
   "metadata": {},
   "source": [
    "# Models"
   ]
  },
  {
   "cell_type": "code",
   "execution_count": 1,
   "metadata": {},
   "outputs": [],
   "source": [
    "import pandas as pd\n",
    "import numpy as np\n",
    "import seaborn as sns\n",
    "import matplotlib.pyplot as plt \n",
    "from imblearn.over_sampling import SMOTE\n",
    "from sklearn.linear_model import LogisticRegression\n",
    "from sklearn.model_selection import train_test_split\n",
    "from sklearn.feature_selection import RFE\n",
    "from sklearn.tree import DecisionTreeClassifier\n",
    "from statsmodels.stats.outliers_influence import variance_inflation_factor\n",
    "from sklearn.metrics import confusion_matrix\n",
    "from sklearn import metrics\n",
    "from sklearn.metrics import classification_report, accuracy_score\n",
    "from sklearn.metrics import roc_auc_score\n",
    "from sklearn.metrics import roc_curve\n",
    "from sklearn.ensemble import RandomForestClassifier\n",
    "from sklearn.metrics import mean_squared_error\n",
    "from sklearn.metrics import f1_score"
   ]
  },
  {
   "cell_type": "code",
   "execution_count": 2,
   "metadata": {},
   "outputs": [],
   "source": [
    "# loading df_cleaned and resetting Dtypes\n",
    "df = pd.read_csv(\"df_cleaned.csv\")\n",
    "df['id_cliente']=df['id_cliente'].astype(str)\n",
    "df[['renda', 'profissao']] = df[['renda', 'profissao']].astype('category')"
   ]
  },
  {
   "cell_type": "markdown",
   "metadata": {},
   "source": [
    "|Nome          |Período|Unidade|Descrição                        |\n",
    "|:-------------|-----  |------|--------------------------------- |\n",
    "|id_cliente    |N/A    |N/A   |Id único que identifica cliente   |\n",
    "|renda         |N/A    |R\\$   |Faixa de renda declarada          |\n",
    "|profissao     |N/A    |N/A   |Grupo de profissões agrupadas     |\n",
    "|qt_compras    |M0     |ativos|Quantidade de ativos adquiridos   |\n",
    "|val_compra    |M0     |R\\$    |Valor total das ações compradas   |\n",
    "|tm_compra     |M0     |R\\$   |Valor por ação - compra (“ticket”)|\n",
    "|qt_vendas     |M0     |ativos|Quantidade de ativos vendidos    |\n",
    "|val_venda     |M0     |R\\$    |Valor total das ações vendidas    |\n",
    "|tm_venda      |M0     |R\\$    |Valor por ação - venda (“ticket”) |\n",
    "|dif_cv        |M0     |ativos |Diferença entre compra e venda de ativos     |\n",
    "|acoes         |M0     |#     |# ações na carteira               |\n",
    "|acoes_dif     |M0     |#     |# ações diferentes na carteira    |\n",
    "|ativo_m1      |M1     |Flag  |1=Cliente está ativo em M1        |\n",
    "|ligou_cr_m1   |M1     |Flag  |1=Contato na central em M1        |"
   ]
  },
  {
   "cell_type": "markdown",
   "metadata": {},
   "source": [
    "Although exploratory analysis provides some interesting indicators, we can raise the bar in our analysis with machine learning models to see which features help predict the variable that matters in our case: **ativo_m1**.\n",
    "\n",
    "In other words, how can we determine whether a customer is about to leave next month, to optimize the work of customer relationship managers (and offer reduced prices, if that's the case) without unnecessarily inconveniencing others?\n",
    "\n",
    "Next, I will use two forecasting techniques: **Logistic Regression** and **Random Forest**.\n",
    "\n",
    "Logistic Regression is useful for being able to work with continuous and discrete data. However, unlike Linear Regression, it is not easy to compare performance of models with many vs. few independent variables (there is no concept of residuals, so it is not possible to use the least squares (cost function) to calculate the R²) - For this, we test whether the effect of the independent variable in predicting the dependent is significantly different from 0 ( using Wald's Test, or Z test - I didn't use Chi-square). If not (=0), it means the variable is not helping. In other words, we use the concept of 'maximum likelihood' (we calculate the observation probability of all points on the X axis to be y=0 and y=1 (Sigmoid function converts the input into a range 0-1), and we multiply all the probabilities/likelihood together; then we move the \"S\" line several times and calculate the same thing until we find the curve with 'maximum likelihood'). To do this, we calculate the probability of leaving the brokerage house by the total number of people who left the brokerage house divided by the total number of customers. Then we multiply this probability by the total number of customers who have a specific independent variable. This will be the expected number of clients that have the independent variable AND have left the broker. And the rest is the expected number of clients that have the independent variable E will not leave the broker. Then we do the same (probability of leaving the broker (already calculated) x total number of clients who DO NOT have this same independent variable (and subtraction)."
   ]
  },
  {
   "cell_type": "markdown",
   "metadata": {},
   "source": [
    "First of all, we need to turn categorical variables into dummy variables - binary \"switches\" that turn the parameters in the equation on or off."
   ]
  },
  {
   "cell_type": "markdown",
   "metadata": {},
   "source": [
    "##### Creating dummy variables"
   ]
  },
  {
   "cell_type": "code",
   "execution_count": 3,
   "metadata": {},
   "outputs": [
    {
     "data": {
      "text/html": [
       "<div>\n",
       "<style scoped>\n",
       "    .dataframe tbody tr th:only-of-type {\n",
       "        vertical-align: middle;\n",
       "    }\n",
       "\n",
       "    .dataframe tbody tr th {\n",
       "        vertical-align: top;\n",
       "    }\n",
       "\n",
       "    .dataframe thead th {\n",
       "        text-align: right;\n",
       "    }\n",
       "</style>\n",
       "<table border=\"1\" class=\"dataframe\">\n",
       "  <thead>\n",
       "    <tr style=\"text-align: right;\">\n",
       "      <th></th>\n",
       "      <th>qt_compras</th>\n",
       "      <th>val_compra</th>\n",
       "      <th>tm_compra</th>\n",
       "      <th>qt_vendas</th>\n",
       "      <th>val_venda</th>\n",
       "      <th>tm_venda</th>\n",
       "      <th>dif_cv</th>\n",
       "      <th>acoes</th>\n",
       "      <th>acoes_dif</th>\n",
       "      <th>ativo_m1</th>\n",
       "      <th>renda_De 0 a 5k</th>\n",
       "      <th>renda_De 10 a 15k</th>\n",
       "      <th>renda_De 15 a 20k</th>\n",
       "      <th>renda_De 5 a 10k</th>\n",
       "      <th>profissao_A</th>\n",
       "      <th>profissao_B</th>\n",
       "      <th>profissao_C</th>\n",
       "    </tr>\n",
       "  </thead>\n",
       "  <tbody>\n",
       "    <tr>\n",
       "      <th>0</th>\n",
       "      <td>0.0</td>\n",
       "      <td>0.00</td>\n",
       "      <td>0.0</td>\n",
       "      <td>100.01</td>\n",
       "      <td>2941.26</td>\n",
       "      <td>29.41</td>\n",
       "      <td>-100.01</td>\n",
       "      <td>9900</td>\n",
       "      <td>40</td>\n",
       "      <td>True</td>\n",
       "      <td>1</td>\n",
       "      <td>0</td>\n",
       "      <td>0</td>\n",
       "      <td>0</td>\n",
       "      <td>0</td>\n",
       "      <td>1</td>\n",
       "      <td>0</td>\n",
       "    </tr>\n",
       "    <tr>\n",
       "      <th>1</th>\n",
       "      <td>0.0</td>\n",
       "      <td>0.00</td>\n",
       "      <td>0.0</td>\n",
       "      <td>599.90</td>\n",
       "      <td>9388.48</td>\n",
       "      <td>15.65</td>\n",
       "      <td>-599.90</td>\n",
       "      <td>7800</td>\n",
       "      <td>20</td>\n",
       "      <td>True</td>\n",
       "      <td>0</td>\n",
       "      <td>0</td>\n",
       "      <td>0</td>\n",
       "      <td>1</td>\n",
       "      <td>1</td>\n",
       "      <td>0</td>\n",
       "      <td>0</td>\n",
       "    </tr>\n",
       "    <tr>\n",
       "      <th>2</th>\n",
       "      <td>0.0</td>\n",
       "      <td>0.00</td>\n",
       "      <td>0.0</td>\n",
       "      <td>0.00</td>\n",
       "      <td>0.00</td>\n",
       "      <td>0.00</td>\n",
       "      <td>0.00</td>\n",
       "      <td>1600</td>\n",
       "      <td>5</td>\n",
       "      <td>False</td>\n",
       "      <td>1</td>\n",
       "      <td>0</td>\n",
       "      <td>0</td>\n",
       "      <td>0</td>\n",
       "      <td>1</td>\n",
       "      <td>0</td>\n",
       "      <td>0</td>\n",
       "    </tr>\n",
       "    <tr>\n",
       "      <th>3</th>\n",
       "      <td>0.0</td>\n",
       "      <td>0.00</td>\n",
       "      <td>0.0</td>\n",
       "      <td>400.08</td>\n",
       "      <td>4488.88</td>\n",
       "      <td>11.22</td>\n",
       "      <td>-400.08</td>\n",
       "      <td>7200</td>\n",
       "      <td>30</td>\n",
       "      <td>True</td>\n",
       "      <td>0</td>\n",
       "      <td>0</td>\n",
       "      <td>0</td>\n",
       "      <td>1</td>\n",
       "      <td>0</td>\n",
       "      <td>0</td>\n",
       "      <td>1</td>\n",
       "    </tr>\n",
       "    <tr>\n",
       "      <th>4</th>\n",
       "      <td>200.0</td>\n",
       "      <td>3340.07</td>\n",
       "      <td>16.7</td>\n",
       "      <td>199.98</td>\n",
       "      <td>4143.59</td>\n",
       "      <td>20.72</td>\n",
       "      <td>0.02</td>\n",
       "      <td>4400</td>\n",
       "      <td>10</td>\n",
       "      <td>True</td>\n",
       "      <td>0</td>\n",
       "      <td>0</td>\n",
       "      <td>0</td>\n",
       "      <td>1</td>\n",
       "      <td>0</td>\n",
       "      <td>1</td>\n",
       "      <td>0</td>\n",
       "    </tr>\n",
       "  </tbody>\n",
       "</table>\n",
       "</div>"
      ],
      "text/plain": [
       "   qt_compras  val_compra  tm_compra  qt_vendas  val_venda  tm_venda  dif_cv  \\\n",
       "0         0.0        0.00        0.0     100.01    2941.26     29.41 -100.01   \n",
       "1         0.0        0.00        0.0     599.90    9388.48     15.65 -599.90   \n",
       "2         0.0        0.00        0.0       0.00       0.00      0.00    0.00   \n",
       "3         0.0        0.00        0.0     400.08    4488.88     11.22 -400.08   \n",
       "4       200.0     3340.07       16.7     199.98    4143.59     20.72    0.02   \n",
       "\n",
       "   acoes  acoes_dif  ativo_m1  renda_De 0 a 5k  renda_De 10 a 15k  \\\n",
       "0   9900         40      True                1                  0   \n",
       "1   7800         20      True                0                  0   \n",
       "2   1600          5     False                1                  0   \n",
       "3   7200         30      True                0                  0   \n",
       "4   4400         10      True                0                  0   \n",
       "\n",
       "   renda_De 15 a 20k  renda_De 5 a 10k  profissao_A  profissao_B  profissao_C  \n",
       "0                  0                 0            0            1            0  \n",
       "1                  0                 1            1            0            0  \n",
       "2                  0                 0            1            0            0  \n",
       "3                  0                 1            0            0            1  \n",
       "4                  0                 1            0            1            0  "
      ]
     },
     "execution_count": 3,
     "metadata": {},
     "output_type": "execute_result"
    }
   ],
   "source": [
    "cat_features = ['renda','profissao'] # the categorical features\n",
    "\n",
    "df_dummy = pd.get_dummies(df, columns = cat_features)\n",
    "df_dummy.drop(['id_cliente','ligou_cr_m1'], axis=1, inplace=True) # leaving only independent variables\n",
    "\n",
    "df_dummy.head()"
   ]
  },
  {
   "cell_type": "markdown",
   "metadata": {},
   "source": [
    "We also need to separate test data from training data so as not to have a complex model with a very good fit with the data, as it may not be generalist enough to work with new data (overfitting)"
   ]
  },
  {
   "cell_type": "code",
   "execution_count": 4,
   "metadata": {},
   "outputs": [],
   "source": [
    "X = df_dummy.loc[:, df_dummy.columns != 'ativo_m1']\n",
    "y = df_dummy.loc[:, df_dummy.columns == 'ativo_m1']\n",
    "\n",
    "# test train split\n",
    "X_train, X_test, y_train, y_test = train_test_split(X, y, test_size=0.3, random_state=0)\n",
    "columns = X_train.columns"
   ]
  },
  {
   "cell_type": "markdown",
   "metadata": {},
   "source": [
    "As we saw in the exploratory analysis, classes are unbalanced (89/11).\n",
    "\n",
    "One way to resolve unbalanced datasets is \"oversample\" the smaller class. That\n",
    "One approach to addressing imbalanced datasets is to oversmple the minority class. The simplest approach involves duplicating examples in the minority class, although these examples do not add any new information to the model. Instead, new examples can be synthesized from existing examples. This is a type of data augmentation for the minority class and is referred to as the Synthetic Minority Oversampling Technique, or SMOTE.\n",
    "\n",
    "At a high level, SMOTE works by creating synthetic secondary class samples (unsigned) rather than creating copies.\n",
    "Randomly choosing one of the nearest k-nearest-neighbors and using it to create new observations similar but randomly adjusted."
   ]
  },
  {
   "cell_type": "code",
   "execution_count": 5,
   "metadata": {},
   "outputs": [],
   "source": [
    "os = SMOTE(random_state = 0)\n",
    "\n",
    "os_df_X, os_df_y = os.fit_sample(X_train, y_train)\n",
    "os_df_X = pd.DataFrame(data = os_df_X, columns = columns)\n",
    "os_df_y = pd.DataFrame(data = os_df_y, columns = ['ativo_m1'])"
   ]
  },
  {
   "cell_type": "markdown",
   "metadata": {},
   "source": [
    "We need to round up because logistic regression gives error with infinite floats: *ConvergenceWarning: Maximum Likelihood optimization failed to converge. Check mle_retvals*"
   ]
  },
  {
   "cell_type": "code",
   "execution_count": 6,
   "metadata": {},
   "outputs": [],
   "source": [
    "os_df_X = os_df_X.round()\n",
    "os_df_y = os_df_y.round()"
   ]
  },
  {
   "cell_type": "code",
   "execution_count": 7,
   "metadata": {},
   "outputs": [
    {
     "name": "stdout",
     "output_type": "stream",
     "text": [
      "Size of the oversampled data is  12436\n",
      "Number of clients who left the broker in M1 is  6218\n",
      "Number of customers who continued with the broker in M1 is 6218\n",
      "Proportion of customers who left in M1 in the oversampled data is of  0.5\n",
      "Proportion of customers who continued in M1 in the oversampled data is  0.5\n"
     ]
    }
   ],
   "source": [
    "# checking the distribution of datasets after SMOTE\n",
    "\n",
    "print(\"Size of the oversampled data is \", len(os_df_X))\n",
    "print(\"Number of clients who left the broker in M1 is \", len(os_df_y[os_df_y['ativo_m1'] == False]))\n",
    "print(\"Number of customers who continued with the broker in M1 is\", len(os_df_y[os_df_y['ativo_m1'] == True]))\n",
    "print(\"Proportion of customers who left in M1 in the oversampled data is of \", len(os_df_y[os_df_y['ativo_m1'] == 0]) / len(os_df_X))\n",
    "print(\"Proportion of customers who continued in M1 in the oversampled data is \", len(os_df_y[os_df_y['ativo_m1'] == 1]) / len(os_df_X))"
   ]
  },
  {
   "cell_type": "markdown",
   "metadata": {},
   "source": [
    "We now have balanced data.\n",
    "\n",
    "I decided to apply SMOTE only to the training data (X_train, y_train) because, that way, no information from the test data is being used to create synthetic observations - that is, no information will come out of the test data for model training."
   ]
  },
  {
   "cell_type": "markdown",
   "metadata": {},
   "source": [
    "## Logistic Regression - initial analysis"
   ]
  },
  {
   "cell_type": "code",
   "execution_count": 8,
   "metadata": {},
   "outputs": [
    {
     "name": "stdout",
     "output_type": "stream",
     "text": [
      "Optimization terminated successfully.\n",
      "         Current function value: 0.301415\n",
      "         Iterations 10\n",
      "                          Results: Logit\n",
      "==================================================================\n",
      "Model:                Logit            Pseudo R-squared: 0.565    \n",
      "Dependent Variable:   ativo_m1         AIC:              7528.7849\n",
      "Date:                 2021-07-14 15:56 BIC:              7647.6385\n",
      "No. Observations:     12436            Log-Likelihood:   -3748.4  \n",
      "Df Model:             15               LL-Null:          -8620.0  \n",
      "Df Residuals:         12420            LLR p-value:      0.0000   \n",
      "Converged:            1.0000           Scale:            1.0000   \n",
      "No. Iterations:       10.0000                                     \n",
      "------------------------------------------------------------------\n",
      "                   Coef.  Std.Err.    z     P>|z|   [0.025  0.975]\n",
      "------------------------------------------------------------------\n",
      "qt_compras         0.5759   0.7406   0.7775 0.4368 -0.8758  2.0275\n",
      "val_compra         0.0002   0.0001   3.1933 0.0014  0.0001  0.0003\n",
      "tm_compra         -0.0923   0.0080 -11.5249 0.0000 -0.1080 -0.0766\n",
      "qt_vendas         -0.5510   0.7406  -0.7439 0.4569 -2.0026  0.9007\n",
      "val_venda          0.0003   0.0001   4.6919 0.0000  0.0002  0.0004\n",
      "tm_venda          -0.0881   0.0083 -10.5801 0.0000 -0.1044 -0.0717\n",
      "dif_cv            -0.5622   0.7406  -0.7591 0.4478 -2.0139  0.8894\n",
      "acoes             -0.0003   0.0000 -24.7362 0.0000 -0.0003 -0.0002\n",
      "acoes_dif          0.0677   0.0034  20.0543 0.0000  0.0611  0.0744\n",
      "renda_De 0 a 5k   -1.9616   0.0701 -27.9745 0.0000 -2.0991 -1.8242\n",
      "renda_De 10 a 15k  0.0455   0.1314   0.3464 0.7290 -0.2121  0.3032\n",
      "renda_De 15 a 20k  0.9154   0.2558   3.5789 0.0003  0.4141  1.4167\n",
      "renda_De 5 a 10k  -0.6368   0.0983  -6.4791 0.0000 -0.8295 -0.4442\n",
      "profissao_A        1.9046   0.0964  19.7497 0.0000  1.7156  2.0936\n",
      "profissao_B       -0.5419   0.0758  -7.1463 0.0000 -0.6905 -0.3933\n",
      "profissao_C       -0.2256   0.0770  -2.9302 0.0034 -0.3765 -0.0747\n",
      "==================================================================\n",
      "\n"
     ]
    }
   ],
   "source": [
    "X = os_df_X\n",
    "y = os_df_y['ativo_m1']\n",
    "\n",
    "import statsmodels.api as sm\n",
    "logit_model = sm.Logit(y,X)\n",
    "result = logit_model.fit()\n",
    "print(result.summary2())"
   ]
  },
  {
   "cell_type": "markdown",
   "metadata": {},
   "source": [
    "25% of p-values are statistically insignificant - let's try to improve this:"
   ]
  },
  {
   "cell_type": "markdown",
   "metadata": {},
   "source": [
    "#### Feature selection"
   ]
  },
  {
   "cell_type": "markdown",
   "metadata": {},
   "source": [
    "In this study, I will use **Recursive Feature Elimination**, **Decision Trees** and the **VIF** method to eliminate multicollinearity and arrive at the most important features in predicting the independent variable **ativo_m1**."
   ]
  },
  {
   "cell_type": "markdown",
   "metadata": {},
   "source": [
    "##### Recursive Feature Elimination\n",
    "\n",
    "Recursive Feature Elimination (RFE) is based on the idea of repeatedly creating a model and choosing which one has the best feature performance, leaving the feature aside and repeating the process with the rest of the features. This process is applied until all features in the dataset are exhausted. The goal is to select features by considering recursively smaller and smaller amounts of variables."
   ]
  },
  {
   "cell_type": "code",
   "execution_count": 9,
   "metadata": {},
   "outputs": [
    {
     "name": "stdout",
     "output_type": "stream",
     "text": [
      "[False False False False False False False False False False False False\n",
      " False  True False False]\n"
     ]
    },
    {
     "data": {
      "text/plain": [
       "array([ 9, 15,  7, 11, 13, 12, 10, 14,  8,  6,  4,  3,  5,  0,  2,  1])"
      ]
     },
     "execution_count": 9,
     "metadata": {},
     "output_type": "execute_result"
    }
   ],
   "source": [
    "logreg = LogisticRegression(solver='liblinear', max_iter=100)\n",
    "\n",
    "rfe = RFE(logreg, n_features_to_select=1)\n",
    "rfe = rfe.fit(os_df_X, os_df_y.values.ravel())\n",
    "\n",
    "print(rfe.support_)\n",
    "order = rfe.ranking_ - 1\n",
    "order"
   ]
  },
  {
   "cell_type": "markdown",
   "metadata": {},
   "source": [
    "Ordering, to improve the visualization:"
   ]
  },
  {
   "cell_type": "code",
   "execution_count": 10,
   "metadata": {},
   "outputs": [
    {
     "data": {
      "text/plain": [
       "['9. renda_De 0 a 5k',\n",
       " '15. profissao_C',\n",
       " '7. acoes',\n",
       " '11. renda_De 15 a 20k',\n",
       " '13. profissao_A',\n",
       " '12. renda_De 5 a 10k',\n",
       " '10. renda_De 10 a 15k',\n",
       " '14. profissao_B',\n",
       " '8. acoes_dif',\n",
       " '6. dif_cv',\n",
       " '4. val_venda',\n",
       " '3. qt_vendas',\n",
       " '5. tm_venda',\n",
       " '0. qt_compras',\n",
       " '2. tm_compra',\n",
       " '1. val_compra']"
      ]
     },
     "execution_count": 10,
     "metadata": {},
     "output_type": "execute_result"
    }
   ],
   "source": [
    "feature_rank = []\n",
    "for i in order:\n",
    "    feature_rank.append(f\"{i}. {os_df_X.columns[i]}\")\n",
    "feature_rank"
   ]
  },
  {
   "cell_type": "markdown",
   "metadata": {},
   "source": [
    "It is interesting to note that information on purchases and sales (quantity, values and average ticket) is more important in predicting y - but must have high collinearity."
   ]
  },
  {
   "cell_type": "markdown",
   "metadata": {},
   "source": [
    "##### Decision Trees\n",
    "\n",
    "Decision trees (DTs) are a non-parametric supervised learning method used for classification and regression. The goal is to create a model that predicts the value of a target variable by learning simple decision rules inferred from data resources. A tree can be seen as a constant approximation in parts.\n",
    "\n",
    "A tree is built by dividing the source set, constituting the root node of the tree, into subsets - which constitute the successor children. Division is based on a set of division rules based on classification characteristics. This process is repeated on each derived subset in a recursive manner called recursive partitioning. Recursion is completed when the subset within a node has all the same target variable values, or when the split no longer adds value to the predictions.\n",
    "\n",
    "Official document: https://scikit-learn.org/stable/modules/generated/sklearn.tree.DecisionTreeClassifier.html"
   ]
  },
  {
   "cell_type": "code",
   "execution_count": 11,
   "metadata": {},
   "outputs": [
    {
     "data": {
      "text/plain": [
       "DecisionTreeClassifier(criterion='entropy', max_depth=10, random_state=15)"
      ]
     },
     "execution_count": 11,
     "metadata": {},
     "output_type": "execute_result"
    }
   ],
   "source": [
    "dt = DecisionTreeClassifier(random_state=15, criterion = 'entropy', max_depth = 10) # entropy = criterion for calculating information gain / random_state = random number generator\n",
    "dt.fit(os_df_X,os_df_y)"
   ]
  },
  {
   "cell_type": "code",
   "execution_count": 12,
   "metadata": {},
   "outputs": [
    {
     "name": "stdout",
     "output_type": "stream",
     "text": [
      "The feature importance for qt_compras is : 0.3286770895369566\n",
      "The feature importance for val_compra is : 0.010070407356842545\n",
      "The feature importance for tm_compra is : 0.0032020566669006723\n",
      "The feature importance for qt_vendas is : 0.38968738902194006\n",
      "The feature importance for val_venda is : 0.002800062240591695\n",
      "The feature importance for tm_venda is : 0.010548456945992076\n",
      "The feature importance for dif_cv is : 0.01646783079208373\n",
      "The feature importance for acoes is : 0.028911234926423047\n",
      "The feature importance for acoes_dif is : 0.10514926838412052\n",
      "The feature importance for renda_De 0 a 5k is : 0.0003785305386830202\n",
      "The feature importance for renda_De 10 a 15k is : 0.0008295703973727613\n",
      "The feature importance for renda_De 15 a 20k is : 0.0\n",
      "The feature importance for renda_De 5 a 10k is : 0.002192014644367496\n",
      "The feature importance for profissao_A is : 0.07122563745918158\n",
      "The feature importance for profissao_B is : 0.019527249469957167\n",
      "The feature importance for profissao_C is : 0.010333201618587064\n"
     ]
    }
   ],
   "source": [
    "# Running Feature Importance\n",
    "\n",
    "fi_col = []\n",
    "fi = []\n",
    "\n",
    "for i,column in enumerate(os_df_X):\n",
    "    print('The feature importance for {} is : {}'.format(column, dt.feature_importances_[i]))\n",
    "    \n",
    "    fi_col.append(column)\n",
    "    fi.append(dt.feature_importances_[i])"
   ]
  },
  {
   "cell_type": "markdown",
   "metadata": {},
   "source": [
    "Ordering, to improve the visualization:"
   ]
  },
  {
   "cell_type": "code",
   "execution_count": 13,
   "metadata": {},
   "outputs": [
    {
     "data": {
      "text/html": [
       "<div>\n",
       "<style scoped>\n",
       "    .dataframe tbody tr th:only-of-type {\n",
       "        vertical-align: middle;\n",
       "    }\n",
       "\n",
       "    .dataframe tbody tr th {\n",
       "        vertical-align: top;\n",
       "    }\n",
       "\n",
       "    .dataframe thead th {\n",
       "        text-align: right;\n",
       "    }\n",
       "</style>\n",
       "<table border=\"1\" class=\"dataframe\">\n",
       "  <thead>\n",
       "    <tr style=\"text-align: right;\">\n",
       "      <th></th>\n",
       "      <th>index</th>\n",
       "      <th>Feature</th>\n",
       "      <th>Feature Importance</th>\n",
       "    </tr>\n",
       "  </thead>\n",
       "  <tbody>\n",
       "    <tr>\n",
       "      <th>0</th>\n",
       "      <td>3</td>\n",
       "      <td>qt_vendas</td>\n",
       "      <td>0.389687</td>\n",
       "    </tr>\n",
       "    <tr>\n",
       "      <th>1</th>\n",
       "      <td>0</td>\n",
       "      <td>qt_compras</td>\n",
       "      <td>0.328677</td>\n",
       "    </tr>\n",
       "    <tr>\n",
       "      <th>2</th>\n",
       "      <td>8</td>\n",
       "      <td>acoes_dif</td>\n",
       "      <td>0.105149</td>\n",
       "    </tr>\n",
       "    <tr>\n",
       "      <th>3</th>\n",
       "      <td>13</td>\n",
       "      <td>profissao_A</td>\n",
       "      <td>0.071226</td>\n",
       "    </tr>\n",
       "    <tr>\n",
       "      <th>4</th>\n",
       "      <td>7</td>\n",
       "      <td>acoes</td>\n",
       "      <td>0.028911</td>\n",
       "    </tr>\n",
       "    <tr>\n",
       "      <th>5</th>\n",
       "      <td>14</td>\n",
       "      <td>profissao_B</td>\n",
       "      <td>0.019527</td>\n",
       "    </tr>\n",
       "    <tr>\n",
       "      <th>6</th>\n",
       "      <td>6</td>\n",
       "      <td>dif_cv</td>\n",
       "      <td>0.016468</td>\n",
       "    </tr>\n",
       "    <tr>\n",
       "      <th>7</th>\n",
       "      <td>5</td>\n",
       "      <td>tm_venda</td>\n",
       "      <td>0.010548</td>\n",
       "    </tr>\n",
       "    <tr>\n",
       "      <th>8</th>\n",
       "      <td>15</td>\n",
       "      <td>profissao_C</td>\n",
       "      <td>0.010333</td>\n",
       "    </tr>\n",
       "    <tr>\n",
       "      <th>9</th>\n",
       "      <td>1</td>\n",
       "      <td>val_compra</td>\n",
       "      <td>0.010070</td>\n",
       "    </tr>\n",
       "    <tr>\n",
       "      <th>10</th>\n",
       "      <td>2</td>\n",
       "      <td>tm_compra</td>\n",
       "      <td>0.003202</td>\n",
       "    </tr>\n",
       "    <tr>\n",
       "      <th>11</th>\n",
       "      <td>4</td>\n",
       "      <td>val_venda</td>\n",
       "      <td>0.002800</td>\n",
       "    </tr>\n",
       "    <tr>\n",
       "      <th>12</th>\n",
       "      <td>12</td>\n",
       "      <td>renda_De 5 a 10k</td>\n",
       "      <td>0.002192</td>\n",
       "    </tr>\n",
       "    <tr>\n",
       "      <th>13</th>\n",
       "      <td>10</td>\n",
       "      <td>renda_De 10 a 15k</td>\n",
       "      <td>0.000830</td>\n",
       "    </tr>\n",
       "    <tr>\n",
       "      <th>14</th>\n",
       "      <td>9</td>\n",
       "      <td>renda_De 0 a 5k</td>\n",
       "      <td>0.000379</td>\n",
       "    </tr>\n",
       "    <tr>\n",
       "      <th>15</th>\n",
       "      <td>11</td>\n",
       "      <td>renda_De 15 a 20k</td>\n",
       "      <td>0.000000</td>\n",
       "    </tr>\n",
       "  </tbody>\n",
       "</table>\n",
       "</div>"
      ],
      "text/plain": [
       "    index            Feature  Feature Importance\n",
       "0       3          qt_vendas            0.389687\n",
       "1       0         qt_compras            0.328677\n",
       "2       8          acoes_dif            0.105149\n",
       "3      13        profissao_A            0.071226\n",
       "4       7              acoes            0.028911\n",
       "5      14        profissao_B            0.019527\n",
       "6       6             dif_cv            0.016468\n",
       "7       5           tm_venda            0.010548\n",
       "8      15        profissao_C            0.010333\n",
       "9       1         val_compra            0.010070\n",
       "10      2          tm_compra            0.003202\n",
       "11      4          val_venda            0.002800\n",
       "12     12   renda_De 5 a 10k            0.002192\n",
       "13     10  renda_De 10 a 15k            0.000830\n",
       "14      9    renda_De 0 a 5k            0.000379\n",
       "15     11  renda_De 15 a 20k            0.000000"
      ]
     },
     "execution_count": 13,
     "metadata": {},
     "output_type": "execute_result"
    }
   ],
   "source": [
    "# Creating a Dataframe\n",
    "fi_dt = zip(fi_col, fi)\n",
    "fi_dt = pd.DataFrame(fi_dt, columns = ['Feature','Feature Importance'])\n",
    "\n",
    "# Sorting the data\n",
    "fi_dt = fi_dt.sort_values('Feature Importance', ascending = False).reset_index()\n",
    "\n",
    "fi_dt"
   ]
  },
  {
   "cell_type": "markdown",
   "metadata": {},
   "source": [
    "The quantities of purchases and sales remain at the top, as in the case of the RFE, but information regarding actions and professions also appears.\n",
    "\n",
    "Multicollinearity is also an issue for Decision Trees. Decision trees make no assumptions about the relationships between resources. It just builds divisions on single features that improve rank, based on a measure of impurity like Gini or entropy. If the resources *qt_vendas* and *tm_venda* are strongly correlated, no / little information can be obtained from the division into *tm_venda* after the division into *qt_vendas*. In the case of multicollinearity, this will likely mean that they will fit the most effective variable they find, leaving out other plausible variables. There is a material probability that the algorithm fits not on the 'right' variable, but on a strong variable correlated with the right variable, since which predictor is chosen to partition the samples is essentially a random selection."
   ]
  },
  {
   "cell_type": "markdown",
   "metadata": {},
   "source": [
    "##### Multicollinearity & VIF technique"
   ]
  },
  {
   "cell_type": "markdown",
   "metadata": {},
   "source": [
    "Multicollinearity occurs when there are two or more independent variables in a multiple regression model, which have a high correlation with each other. When some features are highly correlated, we may have difficulty distinguishing between their individual effects on the dependent variable. Multicollinearity can be detected using several techniques, one of which is the Variance Inflation Factor (VIF).\n",
    "​\n",
    "In the VIF method, we pick each feature and regress it against all other features."
   ]
  },
  {
   "cell_type": "code",
   "execution_count": 14,
   "metadata": {},
   "outputs": [
    {
     "name": "stdout",
     "output_type": "stream",
     "text": [
      "              feature           VIF\n",
      "0          qt_compras  4.380152e+07\n",
      "1          val_compra  1.619987e+01\n",
      "2           tm_compra  3.591717e+00\n",
      "3           qt_vendas  4.501439e+07\n",
      "4           val_venda  1.490042e+01\n",
      "5            tm_venda  3.648959e+00\n",
      "6              dif_cv  4.618898e+07\n",
      "7               acoes  6.139464e+00\n",
      "8           acoes_dif  4.391648e+00\n",
      "9     renda_De 0 a 5k  2.655966e+00\n",
      "10  renda_De 10 a 15k  2.410159e+00\n",
      "11  renda_De 15 a 20k  2.078291e+00\n",
      "12   renda_De 5 a 10k  2.324807e+00\n",
      "13        profissao_A  2.157061e+00\n",
      "14        profissao_B  2.113511e+00\n",
      "15        profissao_C  2.154427e+00\n"
     ]
    }
   ],
   "source": [
    "# VIF dataframe\n",
    "vif_data = pd.DataFrame()\n",
    "vif_data[\"feature\"] = os_df_X.columns\n",
    "\n",
    "# calculando VIF para cada feature\n",
    "vif_data[\"VIF\"] = [variance_inflation_factor(os_df_X.values, i)\n",
    "                          for i in range(len(os_df_X.columns))]\n",
    "  \n",
    "print(vif_data)"
   ]
  },
  {
   "cell_type": "markdown",
   "metadata": {},
   "source": [
    "As a rule, a VIF greater than 2 already indicates multicollinearity.\n",
    "\n",
    "To choose the features, I used a combination of:\n",
    "- Variables that were detected as important in both RFE and Decision Trees (qt_vendas, qt_compras, acoes_dif, renda e profissão))\n",
    "- Categorical variables that showed a trend in the Exploratory Analysis (renda e profissão)) and can give important signals in the approach of Customer Relationship agents\n",
    "- Elimination of features with high multicollinearity"
   ]
  },
  {
   "cell_type": "markdown",
   "metadata": {},
   "source": [
    "##### Testing Multicollinearity"
   ]
  },
  {
   "cell_type": "code",
   "execution_count": 15,
   "metadata": {},
   "outputs": [
    {
     "name": "stdout",
     "output_type": "stream",
     "text": [
      "             feature       VIF\n",
      "0    renda_De 0 a 5k  2.185256\n",
      "1  renda_De 10 a 15k  2.166856\n",
      "2  renda_De 15 a 20k  1.833100\n",
      "3   renda_De 5 a 10k  2.130369\n",
      "4        profissao_A  2.082712\n",
      "5        profissao_B  2.029286\n",
      "6        profissao_C  2.069068\n",
      "7          qt_vendas  1.817082\n",
      "8         qt_compras  1.840882\n",
      "9          acoes_dif  2.318576\n"
     ]
    }
   ],
   "source": [
    "cols_reduced = ['renda_De 0 a 5k', \n",
    "        'renda_De 10 a 15k', \n",
    "        'renda_De 15 a 20k',\n",
    "        'renda_De 5 a 10k',\n",
    "        'profissao_A',\n",
    "        'profissao_B',\n",
    "        'profissao_C', \n",
    "        'qt_vendas', \n",
    "        'qt_compras',\n",
    "        'acoes_dif']\n",
    "\n",
    "X_reduced = os_df_X[cols_reduced]\n",
    "y_reduced = os_df_y['ativo_m1']\n",
    "  \n",
    "# VIF dataframe\n",
    "vif_data = pd.DataFrame()\n",
    "vif_data[\"feature\"] = X_reduced.columns\n",
    "\n",
    "# calculating VIF for each feature\n",
    "vif_data[\"VIF\"] = [variance_inflation_factor(X_reduced.values, i)\n",
    "                          for i in range(len(X_reduced.columns))]\n",
    "  \n",
    "print(vif_data)"
   ]
  },
  {
   "cell_type": "markdown",
   "metadata": {},
   "source": [
    "There was a significant improvement, now we go to logistic regression:"
   ]
  },
  {
   "cell_type": "markdown",
   "metadata": {},
   "source": [
    "## Logistic Regression - final analysis"
   ]
  },
  {
   "cell_type": "code",
   "execution_count": 16,
   "metadata": {},
   "outputs": [
    {
     "name": "stdout",
     "output_type": "stream",
     "text": [
      "Optimization terminated successfully.\n",
      "         Current function value: 0.348541\n",
      "         Iterations 9\n",
      "                          Results: Logit\n",
      "==================================================================\n",
      "Model:                Logit            Pseudo R-squared: 0.497    \n",
      "Dependent Variable:   ativo_m1         AIC:              8688.9183\n",
      "Date:                 2021-07-14 15:56 BIC:              8763.2018\n",
      "No. Observations:     12436            Log-Likelihood:   -4334.5  \n",
      "Df Model:             9                LL-Null:          -8620.0  \n",
      "Df Residuals:         12426            LLR p-value:      0.0000   \n",
      "Converged:            1.0000           Scale:            1.0000   \n",
      "No. Iterations:       9.0000                                      \n",
      "------------------------------------------------------------------\n",
      "                   Coef.  Std.Err.    z     P>|z|   [0.025  0.975]\n",
      "------------------------------------------------------------------\n",
      "renda_De 0 a 5k   -2.4259   0.0639 -37.9457 0.0000 -2.5512 -2.3006\n",
      "renda_De 10 a 15k -0.6060   0.1197  -5.0614 0.0000 -0.8407 -0.3713\n",
      "renda_De 15 a 20k  0.0159   0.2185   0.0730 0.9418 -0.4123  0.4442\n",
      "renda_De 5 a 10k  -1.1572   0.0877 -13.2013 0.0000 -1.3290 -0.9854\n",
      "profissao_A        1.6007   0.0904  17.7151 0.0000  1.4236  1.7778\n",
      "profissao_B       -0.6253   0.0691  -9.0480 0.0000 -0.7608 -0.4898\n",
      "profissao_C       -0.3886   0.0702  -5.5360 0.0000 -0.5262 -0.2510\n",
      "qt_vendas          0.0104   0.0003  34.5002 0.0000  0.0098  0.0110\n",
      "qt_compras         0.0100   0.0003  34.1551 0.0000  0.0095  0.0106\n",
      "acoes_dif          0.0022   0.0014   1.5906 0.1117 -0.0005  0.0048\n",
      "==================================================================\n",
      "\n"
     ]
    }
   ],
   "source": [
    "import statsmodels.api as sm\n",
    "logit_model = sm.Logit(y_reduced,X_reduced)\n",
    "result = logit_model.fit()\n",
    "print(result.summary2())"
   ]
  },
  {
   "cell_type": "markdown",
   "metadata": {},
   "source": [
    "### Comments:\n",
    "\n",
    "- Pseudo R-squared: explaining almost 50% of the variation in *ativo_m1* (although it is not the ideal indicator, as R² in the OLS - here it is the ratio of the logarithmic probability of the null model to the full model.)\n",
    "- The Z-test (ratio of Coef/Std.Err) is a way of testing whether the effect of the independent variable in predicting the dependent variable is significantly different from 0.\n",
    "- Coefficients predict changes in log odds of the dependent variable for each unit augmented in the independent variable. Positive values ​​indicate that an increase in the explanatory variable also predicts an increase in the probability associated with the dependent variable. For example, when the customer has *profissao_A* (changes from 0 to 1), the cumulative probability of the customer being active (changes from 0 to 1) increases by exp(1,6007) - with 95% confidence interval of being between 1.4236 - 1.7778.\n",
    "- Negative coefficients indicate the opposite: for example, when the customer has *renda_De 0 a 5k* (changes from 0 to 1), the cumulative probability of the customer being active (changes from 0 to 1) reduces exp(2.4259) - with 95 % confidence interval lies between -2.5512 - -2.3006.\n",
    "\n",
    "\n",
    "That said, we can see that:\n",
    "- The lower the income, the greater the likelihood of ativo_m1 = 0 (leaving the broker in M1). Especially if it's less than 10K. Proving deductions from the exploratory analysis and indicating that the problem may be that lower-income customers are looking for more competitive prices;\n",
    "- Professions B and C are more likely to leave the brokerage house, also proving deductions from the exploratory analysis;\n",
    "- Quantity of assets bought and sold do not have significant difference in the forecast of ativo_m1. In the exploratory analysis, \"having sold more assets than bought is not necessarily a good indicator that the client exited in M1 (mean dif_cv smaller/negative)\"\n",
    "- Having a larger amount of different stocks does not explain ativo_m1 forecast significantly either. In the exploratory analysis: \"clients who remained in M1 have an average of # different shares and generally higher than clients who left, but there are outliers in active clients in M1 that pull the average up\""
   ]
  },
  {
   "cell_type": "markdown",
   "metadata": {},
   "source": [
    "#### Predicting Test Sets and Calculating Accuracy\n",
    "\n",
    "Accuracy is the ratio of correct predictions to total predictions."
   ]
  },
  {
   "cell_type": "code",
   "execution_count": 17,
   "metadata": {},
   "outputs": [
    {
     "data": {
      "text/plain": [
       "LogisticRegression(solver='liblinear')"
      ]
     },
     "execution_count": 17,
     "metadata": {},
     "output_type": "execute_result"
    }
   ],
   "source": [
    "# using scikit-learn LogisticRegression (applies regularization)\n",
    "# By default, scikit-learn‘s logistic regression applies regularization (e por isso pode ser diferente do statsmodel Logit). Regularization balances the need for predictive accuracy on the training data with a penalty on the magnitude of the model coefficients. Increasing the penalty reduces the coefficients and hence reduces the likelihood of overfitting. If the penalty is too large, though, it will reduce predictive power on both the training and test data. We can set turn off regularization by setting penalty as none.\n",
    "logreg = LogisticRegression(solver='liblinear', max_iter=100)\n",
    "logreg.fit(X_reduced, y_reduced.values.ravel())"
   ]
  },
  {
   "cell_type": "code",
   "execution_count": 18,
   "metadata": {},
   "outputs": [
    {
     "name": "stdout",
     "output_type": "stream",
     "text": [
      "Accuracy of logistic regression in test set: 0.93\n"
     ]
    }
   ],
   "source": [
    "X_test_reduced = X_test[cols_reduced]\n",
    "y_test_reduced = y_test['ativo_m1']\n",
    "\n",
    "y_pred = logreg.predict(X_test_reduced)\n",
    "print('Accuracy of logistic regression in test set: {:.2f}'.format(logreg.score(X_test_reduced, y_test_reduced)))"
   ]
  },
  {
   "cell_type": "markdown",
   "metadata": {},
   "source": [
    "Model accuracy: 93%"
   ]
  },
  {
   "cell_type": "markdown",
   "metadata": {},
   "source": [
    "#### Confusion Matrix"
   ]
  },
  {
   "cell_type": "code",
   "execution_count": 19,
   "metadata": {},
   "outputs": [
    {
     "data": {
      "text/plain": [
       "array([[ 279,   41],\n",
       "       [ 170, 2510]], dtype=int64)"
      ]
     },
     "execution_count": 19,
     "metadata": {},
     "output_type": "execute_result"
    },
    {
     "data": {
      "image/png": "[encoded data removed]",
      "text/plain": [
       "<Figure size 432x288 with 2 Axes>"
      ]
     },
     "metadata": {
      "needs_background": "light"
     },
     "output_type": "display_data"
    }
   ],
   "source": [
    "# Viewing Confusion Matrix\n",
    "cm = confusion_matrix(y_test_reduced, y_pred)\n",
    "cm_norm = cm / cm.sum(axis=1).reshape(-1,1) # each line divided by the sum of the line (percent)\n",
    "\n",
    "def plot_confusion_matrix(cm, classes=None, title='Confusion matrix'):\n",
    "    \"\"\"Plota um Confusion Matrix\"\"\"\n",
    "    if classes is not None:\n",
    "        sns.heatmap(cm, cmap=\"YlGnBu\", xticklabels=classes, yticklabels=classes, vmin=0., vmax=1., annot=True, annot_kws={'size':50})\n",
    "    else:\n",
    "        sns.heatmap(cm, vmin=0., vmax=1.)\n",
    "    plt.title(title)\n",
    "    plt.ylabel('True label')\n",
    "    plt.xlabel('Predicted label')\n",
    "\n",
    "plot_confusion_matrix(cm_norm, classes = logreg.classes_, title='Confusion matrix')\n",
    "cm"
   ]
  },
  {
   "cell_type": "markdown",
   "metadata": {},
   "source": [
    "The result tells us that there were 279 (87% of the y's that were negative and the model predicted as negative) + 2510 (94% of the y's that were positive and we predicted as positive). A total of 2789 correct predictions, against 41+170=211 incorrect predictions."
   ]
  },
  {
   "cell_type": "markdown",
   "metadata": {},
   "source": [
    "#### Compute precision, recall, F-measure and support"
   ]
  },
  {
   "cell_type": "markdown",
   "metadata": {},
   "source": [
    "Quoting Scikit Learn:\n",
    "\n",
    "Precision is the ratio tp / (tp + fp) where tp is the number of true positives and fp is the number of false positives. Precision is intuitively the classifier's ability not to label a sample as positive if it is negative.\n",
    "\n",
    "Recall is the ratio tp / (tp + fn) where tp is the number of true positives and fn the number of false negatives. Recall is intuitively the classifier's ability to find all positive samples.\n",
    "\n",
    "The F-beta score can be interpreted as a harmonic weighted average of accuracy and recall, where an F-beta score reaches its best value of 1 and the worst score of 0.\n",
    "\n",
    "The F-beta score weights recall more than accuracy by a beta factor. beta = 1.0 means that recall and accuracy are equally important.\n",
    "\n",
    "Support is the number of occurrences of each class in y_test."
   ]
  },
  {
   "cell_type": "code",
   "execution_count": 20,
   "metadata": {},
   "outputs": [
    {
     "name": "stdout",
     "output_type": "stream",
     "text": [
      "              precision    recall  f1-score   support\n",
      "\n",
      "       False       0.62      0.87      0.73       320\n",
      "        True       0.98      0.94      0.96      2680\n",
      "\n",
      "    accuracy                           0.93      3000\n",
      "   macro avg       0.80      0.90      0.84      3000\n",
      "weighted avg       0.95      0.93      0.93      3000\n",
      "\n"
     ]
    }
   ],
   "source": [
    "print(classification_report(y_test_reduced, y_pred))"
   ]
  },
  {
   "cell_type": "markdown",
   "metadata": {},
   "source": [
    "#### ROC curve"
   ]
  },
  {
   "cell_type": "markdown",
   "metadata": {},
   "source": [
    "A ROC (Receiver Operating Characteristic) curve is a graph that shows the performance of a classification model across all classification thresholds. This curve represents two parameters: True Positive Rate and False Positive Rate."
   ]
  },
  {
   "cell_type": "code",
   "execution_count": 21,
   "metadata": {},
   "outputs": [
    {
     "data": {
      "image/png": "[encoded data removed]",
      "text/plain": [
       "<Figure size 432x288 with 1 Axes>"
      ]
     },
     "metadata": {
      "needs_background": "light"
     },
     "output_type": "display_data"
    }
   ],
   "source": [
    "logit_roc_auc = roc_auc_score(y_test_reduced, logreg.predict(X_test_reduced))\n",
    "fpr, tpr, thresholds = roc_curve(y_test_reduced, logreg.predict_proba(X_test_reduced)[:,1])\n",
    "plt.figure()\n",
    "plt.plot(fpr, tpr, label='Logistic Regression (area = %0.2f)' % logit_roc_auc)\n",
    "plt.plot([0, 1], [0, 1],'r--')\n",
    "plt.xlim([0.0, 1.0])\n",
    "plt.ylim([0.0, 1.05])\n",
    "plt.xlabel('False Positive Rate')\n",
    "plt.ylabel('True Positive Rate')\n",
    "plt.title('Receiver operating characteristic')\n",
    "plt.legend(loc=\"lower right\")\n",
    "plt.savefig('Log_ROC')\n",
    "plt.show()"
   ]
  },
  {
   "cell_type": "markdown",
   "metadata": {},
   "source": [
    "The dotted line represents the ROC curve of a purely random classifier. Classifiers that provide curves closer to the upper left corner indicate better performance. As a baseline, a random classifier is expected to provide points along the diagonal (FPR = TPR). The closer the curve comes to the 45-degree diagonal of the ROC space, the less accurate the test."
   ]
  },
  {
   "cell_type": "markdown",
   "metadata": {},
   "source": [
    "# Random Forest"
   ]
  },
  {
   "cell_type": "markdown",
   "metadata": {},
   "source": [
    "Random Forest is one of the most popular \"ensemble\" methods for supervised machine learning and is capable of performing both regression and classification.\n",
    "\n",
    "RF develops a “forest” by building a multitude of decision trees. Because of its Bootstrap Aggregation and Feature Randomness algorithms, Random Forests can handle large data sets and numerical and categorical variables with high dimensionality, without overfitting (unlike a regular decision tree) or needing to be standardized (Hastie, et al., 2009). Furthermore, by using a random subset of variables, it reduces the correlations in the tree (Breiman, 2001), producing a more accurate prediction (Ho, 1995) and avoiding multicollinearity of features.\n",
    "\n",
    "Due to its mixed method of Bootstrap Aggregation with Feature Randomness, it is possible to measure the importance of each feature, as well as estimate the strength of the ensemble, correlation and generalization error (PE) in each division of the tree, allowing the model to be adjusted and validated during training (Breiman, 2001; Hastie, Tibshirani, & Friedman, 2009).\n",
    "\n",
    "In summary, it is a very simple and complete \"out of the box\" algorithm.\n",
    "\n",
    "The number of 100 decision trees was defined for the set as n_estimators."
   ]
  },
  {
   "cell_type": "code",
   "execution_count": 22,
   "metadata": {},
   "outputs": [
    {
     "name": "stderr",
     "output_type": "stream",
     "text": [
      "<ipython-input-22-4e3dee9c2517>:2: DataConversionWarning: A column-vector y was passed when a 1d array was expected. Please change the shape of y to (n_samples,), for example using ravel().\n",
      "  forest_clas.fit(os_df_X, os_df_y) # training\n"
     ]
    },
    {
     "data": {
      "text/plain": [
       "0.03233190689212125"
      ]
     },
     "execution_count": 22,
     "metadata": {},
     "output_type": "execute_result"
    }
   ],
   "source": [
    "forest_clas = RandomForestClassifier(n_estimators=100)\n",
    "forest_clas.fit(os_df_X, os_df_y) # training\n",
    "\n",
    "predictions = forest_clas.predict(os_df_X)\n",
    "forest_mse = mean_squared_error(os_df_y, predictions)\n",
    "forest_rmse = np.sqrt(forest_mse)\n",
    "forest_rmse"
   ]
  },
  {
   "cell_type": "markdown",
   "metadata": {},
   "source": [
    "Typical error of 0.03 with Random Forest Classifier. Even better than Logistic Regression."
   ]
  },
  {
   "cell_type": "code",
   "execution_count": 23,
   "metadata": {},
   "outputs": [
    {
     "name": "stdout",
     "output_type": "stream",
     "text": [
      "              precision    recall  f1-score   support\n",
      "\n",
      "       False       1.00      1.00      1.00      6218\n",
      "        True       1.00      1.00      1.00      6218\n",
      "\n",
      "    accuracy                           1.00     12436\n",
      "   macro avg       1.00      1.00      1.00     12436\n",
      "weighted avg       1.00      1.00      1.00     12436\n",
      "\n"
     ]
    }
   ],
   "source": [
    "print(classification_report(os_df_y,predictions))"
   ]
  },
  {
   "cell_type": "code",
   "execution_count": 24,
   "metadata": {},
   "outputs": [
    {
     "name": "stdout",
     "output_type": "stream",
     "text": [
      "Features ordenadas pelo score:\n",
      "[(0.1695, 'qt_vendas'), (0.1568, 'qt_compras'), (0.1229, 'val_compra'), (0.1135, 'acoes_dif'), (0.0972, 'val_venda'), (0.0812, 'dif_cv'), (0.079, 'acoes'), (0.0499, 'profissao_A'), (0.0497, 'tm_venda'), (0.0449, 'tm_compra'), (0.0092, 'renda_De 5 a 10k'), (0.0075, 'profissao_C'), (0.006, 'profissao_B'), (0.0053, 'renda_De 0 a 5k'), (0.0047, 'renda_De 10 a 15k'), (0.0027, 'renda_De 15 a 20k')]\n"
     ]
    }
   ],
   "source": [
    "features = df_dummy.loc[:, df_dummy.columns != 'ativo_m1']\n",
    "\n",
    "print(\"Features ordenadas pelo score:\")\n",
    "print(sorted(zip(map(lambda x: float(\"{0:.5f}\".format(round(x, 4))), forest_clas.feature_importances_), features),\n",
    "             reverse=True))"
   ]
  },
  {
   "cell_type": "markdown",
   "metadata": {},
   "source": [
    "Random Forest Classifier confirms the suggestion of the most important features of Features Extraction and Exploratory Analysis: *qt_compras*, *qt_vendas* e *acoes_dif*, in addition to *profissao_A* and *renda_De 5 to 10k*, despite their reduced importance."
   ]
  }
 ],
 "metadata": {
  "kernelspec": {
   "display_name": "Python 3",
   "language": "python",
   "name": "python3"
  },
  "language_info": {
   "codemirror_mode": {
    "name": "ipython",
    "version": 3
   },
   "file_extension": ".py",
   "mimetype": "text/x-python",
   "name": "python",
   "nbconvert_exporter": "python",
   "pygments_lexer": "ipython3",
   "version": "3.8.5"
  }
 },
 "nbformat": 4,
 "nbformat_minor": 4
}
