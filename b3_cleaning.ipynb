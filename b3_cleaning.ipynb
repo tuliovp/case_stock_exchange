{
 "cells": [
  {
   "cell_type": "markdown",
   "metadata": {},
   "source": [
    "<h1><center>Case Study - B3</center></h1>"
   ]
  },
  {
   "cell_type": "markdown",
   "metadata": {},
   "source": [
    "# Overview & Cleaning"
   ]
  },
  {
   "cell_type": "code",
   "execution_count": 1,
   "metadata": {},
   "outputs": [],
   "source": [
    "import pandas as pd"
   ]
  },
  {
   "cell_type": "code",
   "execution_count": 2,
   "metadata": {},
   "outputs": [],
   "source": [
    "# loading the df\n",
    "df = pd.read_csv(\"base_case.csv\", sep=';');"
   ]
  },
  {
   "cell_type": "markdown",
   "metadata": {},
   "source": [
    "|Nome          |Período|Unidade|Descrição                        |\n",
    "|:-------------|-----  |------|--------------------------------- |\n",
    "|id_cliente    |N/A    |N/A   |Unique id that identifies customer  |\n",
    "|renda         |N/A    |R\\$   |Declared income range          |\n",
    "|profissao     |N/A    |N/A   |Group of professions grouped     |\n",
    "|val_compra    |M0     |R\\$    |Total value of purchased shares   |\n",
    "|val_venda     |M0     |R\\$    |Total value of shares sold    |\n",
    "|tm_compra     |M0     |R\\$   |Value per share - purchase (\"ticket\")|\n",
    "|tm_venda      |M0     |R\\$    |Value per share - sale (\"ticket\") |\n",
    "|acoes         |M0     |#     |# shares in the portfolio               |\n",
    "|acoes_dif     |M0     |#     |# different shares in the portfolio    |\n",
    "|ativo_m1      |M1     |Flag  |1=Customer is active in M1        |\n",
    "|ligou_cr_m1   |M1     |Flag  |1=Contact from sales team in M1        |"
   ]
  },
  {
   "cell_type": "code",
   "execution_count": 3,
   "metadata": {},
   "outputs": [
    {
     "data": {
      "text/html": [
       "<div>\n",
       "<style scoped>\n",
       "    .dataframe tbody tr th:only-of-type {\n",
       "        vertical-align: middle;\n",
       "    }\n",
       "\n",
       "    .dataframe tbody tr th {\n",
       "        vertical-align: top;\n",
       "    }\n",
       "\n",
       "    .dataframe thead th {\n",
       "        text-align: right;\n",
       "    }\n",
       "</style>\n",
       "<table border=\"1\" class=\"dataframe\">\n",
       "  <thead>\n",
       "    <tr style=\"text-align: right;\">\n",
       "      <th></th>\n",
       "      <th>id_cliente</th>\n",
       "      <th>renda</th>\n",
       "      <th>profissao</th>\n",
       "      <th>val_compra</th>\n",
       "      <th>val_venda</th>\n",
       "      <th>tm_compra</th>\n",
       "      <th>tm_venda</th>\n",
       "      <th>acoes</th>\n",
       "      <th>acoes_dif</th>\n",
       "      <th>ativo_m1</th>\n",
       "      <th>ligou_cr_m1</th>\n",
       "    </tr>\n",
       "  </thead>\n",
       "  <tbody>\n",
       "    <tr>\n",
       "      <th>0</th>\n",
       "      <td>280249781</td>\n",
       "      <td>De 0 a 5k</td>\n",
       "      <td>B</td>\n",
       "      <td>0</td>\n",
       "      <td>2941,2573</td>\n",
       "      <td>NaN</td>\n",
       "      <td>29,412573</td>\n",
       "      <td>9900</td>\n",
       "      <td>40</td>\n",
       "      <td>1</td>\n",
       "      <td>0</td>\n",
       "    </tr>\n",
       "    <tr>\n",
       "      <th>1</th>\n",
       "      <td>706585147</td>\n",
       "      <td>De 5 a 10k</td>\n",
       "      <td>A</td>\n",
       "      <td>0</td>\n",
       "      <td>9388,480268</td>\n",
       "      <td>NaN</td>\n",
       "      <td>15,64746711</td>\n",
       "      <td>7800</td>\n",
       "      <td>20</td>\n",
       "      <td>1</td>\n",
       "      <td>0</td>\n",
       "    </tr>\n",
       "    <tr>\n",
       "      <th>2</th>\n",
       "      <td>968252151</td>\n",
       "      <td>De 0 a 5k</td>\n",
       "      <td>A</td>\n",
       "      <td>0</td>\n",
       "      <td>0</td>\n",
       "      <td>NaN</td>\n",
       "      <td>NaN</td>\n",
       "      <td>1600</td>\n",
       "      <td>5</td>\n",
       "      <td>0</td>\n",
       "      <td>1</td>\n",
       "    </tr>\n",
       "    <tr>\n",
       "      <th>3</th>\n",
       "      <td>395769633</td>\n",
       "      <td>De 5 a 10k</td>\n",
       "      <td>C</td>\n",
       "      <td>0</td>\n",
       "      <td>4488,875068</td>\n",
       "      <td>NaN</td>\n",
       "      <td>11,22218767</td>\n",
       "      <td>7200</td>\n",
       "      <td>30</td>\n",
       "      <td>1</td>\n",
       "      <td>0</td>\n",
       "    </tr>\n",
       "    <tr>\n",
       "      <th>4</th>\n",
       "      <td>909158440</td>\n",
       "      <td>De 5 a 10k</td>\n",
       "      <td>B</td>\n",
       "      <td>3340,069458</td>\n",
       "      <td>4143,588932</td>\n",
       "      <td>16,70034729</td>\n",
       "      <td>20,71794466</td>\n",
       "      <td>4400</td>\n",
       "      <td>10</td>\n",
       "      <td>1</td>\n",
       "      <td>1</td>\n",
       "    </tr>\n",
       "  </tbody>\n",
       "</table>\n",
       "</div>"
      ],
      "text/plain": [
       "   id_cliente       renda profissao   val_compra    val_venda    tm_compra  \\\n",
       "0   280249781   De 0 a 5k         B            0    2941,2573          NaN   \n",
       "1   706585147  De 5 a 10k         A            0  9388,480268          NaN   \n",
       "2   968252151   De 0 a 5k         A            0            0          NaN   \n",
       "3   395769633  De 5 a 10k         C            0  4488,875068          NaN   \n",
       "4   909158440  De 5 a 10k         B  3340,069458  4143,588932  16,70034729   \n",
       "\n",
       "      tm_venda  acoes  acoes_dif  ativo_m1  ligou_cr_m1  \n",
       "0    29,412573   9900         40         1            0  \n",
       "1  15,64746711   7800         20         1            0  \n",
       "2          NaN   1600          5         0            1  \n",
       "3  11,22218767   7200         30         1            0  \n",
       "4  20,71794466   4400         10         1            1  "
      ]
     },
     "execution_count": 3,
     "metadata": {},
     "output_type": "execute_result"
    }
   ],
   "source": [
    "df.head() # viewing the header and first lines"
   ]
  },
  {
   "cell_type": "code",
   "execution_count": 4,
   "metadata": {},
   "outputs": [
    {
     "name": "stdout",
     "output_type": "stream",
     "text": [
      "<class 'pandas.core.frame.DataFrame'>\n",
      "RangeIndex: 10000 entries, 0 to 9999\n",
      "Data columns (total 11 columns):\n",
      " #   Column       Non-Null Count  Dtype \n",
      "---  ------       --------------  ----- \n",
      " 0   id_cliente   10000 non-null  int64 \n",
      " 1   renda        10000 non-null  object\n",
      " 2   profissao    10000 non-null  object\n",
      " 3   val_compra   10000 non-null  object\n",
      " 4   val_venda    10000 non-null  object\n",
      " 5   tm_compra    6006 non-null   object\n",
      " 6   tm_venda     5966 non-null   object\n",
      " 7   acoes        10000 non-null  int64 \n",
      " 8   acoes_dif    10000 non-null  int64 \n",
      " 9   ativo_m1     10000 non-null  int64 \n",
      " 10  ligou_cr_m1  10000 non-null  int64 \n",
      "dtypes: int64(5), object(6)\n",
      "memory usage: 859.5+ KB\n"
     ]
    },
    {
     "data": {
      "text/plain": [
       "(10000, 11)"
      ]
     },
     "execution_count": 4,
     "metadata": {},
     "output_type": "execute_result"
    }
   ],
   "source": [
    "# to understand general dataframe information\n",
    "df.info()\n",
    "df.shape"
   ]
  },
  {
   "cell_type": "markdown",
   "metadata": {},
   "source": [
    "There are null values in the **tm_compra** and **tm_venda** columns"
   ]
  },
  {
   "cell_type": "code",
   "execution_count": 5,
   "metadata": {},
   "outputs": [
    {
     "data": {
      "text/plain": [
       "id_cliente        0\n",
       "renda             0\n",
       "profissao         0\n",
       "val_compra        0\n",
       "val_venda         0\n",
       "tm_compra      3994\n",
       "tm_venda       4034\n",
       "acoes             0\n",
       "acoes_dif         0\n",
       "ativo_m1          0\n",
       "ligou_cr_m1       0\n",
       "dtype: int64"
      ]
     },
     "execution_count": 5,
     "metadata": {},
     "output_type": "execute_result"
    }
   ],
   "source": [
    "df.isnull().sum() # confirming how many null values"
   ]
  },
  {
   "cell_type": "code",
   "execution_count": 6,
   "metadata": {},
   "outputs": [
    {
     "data": {
      "text/plain": [
       "array(['De 0 a 5k', 'De 5 a 10k', 'De 15 a 20k', 'De 10 a 15k', 'B', 'A',\n",
       "       'C', 1, 0], dtype=object)"
      ]
     },
     "execution_count": 6,
     "metadata": {},
     "output_type": "execute_result"
    }
   ],
   "source": [
    "# understanding what (unique) values we have in columns that appear to be categorical\n",
    "# K means reading elements in the order they occur in memory.\n",
    "# ravel returns an adjacent flat 1-D array containing the elements\n",
    "\n",
    "pd.unique(df[['renda', 'profissao', 'ativo_m1', 'ligou_cr_m1']].values.ravel('K'))"
   ]
  },
  {
   "cell_type": "code",
   "execution_count": 7,
   "metadata": {},
   "outputs": [
    {
     "data": {
      "text/plain": [
       "0"
      ]
     },
     "execution_count": 7,
     "metadata": {},
     "output_type": "execute_result"
    }
   ],
   "source": [
    "# return sum of duplicate rows\n",
    "sum(df.duplicated(keep='first'))"
   ]
  },
  {
   "cell_type": "markdown",
   "metadata": {},
   "source": [
    "### Notes for treatment\n",
    "- There are missing values only in *tm_compra* and *tm_venda* (expected, as there was not necessarily a purchase or sale in M0)\n",
    "- No duplicate lines\n",
    "- Convert datatype from *id_cliente* to object\n",
    "- Convert datatype from *renda*, *profissao* to categorical, if applying ML\n",
    "- Convert the datatype of the value and average ticket columns to float\n",
    "- Convert datatype of flags to bool\n"
   ]
  },
  {
   "cell_type": "code",
   "execution_count": 8,
   "metadata": {},
   "outputs": [],
   "source": [
    "# convert datatype from 'id_cliente' to object\n",
    "\n",
    "df['id_cliente']=df['id_cliente'].astype(str)"
   ]
  },
  {
   "cell_type": "code",
   "execution_count": 9,
   "metadata": {},
   "outputs": [],
   "source": [
    "# convert datatype from 'renda', 'profissao' to categorical if applying ML\n",
    "\n",
    "to_convert1 = ['renda', 'profissao']\n",
    "df[to_convert1] = df[to_convert1].astype('category')"
   ]
  },
  {
   "cell_type": "code",
   "execution_count": 10,
   "metadata": {},
   "outputs": [],
   "source": [
    "# convert the datatype of the value and average ticket columns to float\n",
    "\n",
    "# BEFORE - replace null values in 'tm_compra' and 'tm_venda' to 0\n",
    "# to be able to convert all ',' in these columns to '.' - and turn them into numerical variables\n",
    "df.update(df[['tm_compra','tm_venda']].fillna(0))\n",
    "\n",
    "import re #Regular expression operations - allows special characters to be used without having their senses invoked\n",
    "\n",
    "to_convert2 = ['val_compra', 'val_venda', 'tm_compra', 'tm_venda']\n",
    "\n",
    "for col in to_convert2:\n",
    "    df[col] = pd.to_numeric(df[col].apply(lambda x: re.sub(',', '.', str(x)))).round(2)"
   ]
  },
  {
   "cell_type": "code",
   "execution_count": 11,
   "metadata": {},
   "outputs": [],
   "source": [
    "# convert flags datatype to bool\n",
    "\n",
    "to_convert3 = ['ativo_m1', 'ligou_cr_m1']\n",
    "df[to_convert3] = df[to_convert3].astype('bool')"
   ]
  },
  {
   "cell_type": "markdown",
   "metadata": {},
   "source": [
    "Result:"
   ]
  },
  {
   "cell_type": "code",
   "execution_count": 12,
   "metadata": {},
   "outputs": [
    {
     "data": {
      "text/html": [
       "<div>\n",
       "<style scoped>\n",
       "    .dataframe tbody tr th:only-of-type {\n",
       "        vertical-align: middle;\n",
       "    }\n",
       "\n",
       "    .dataframe tbody tr th {\n",
       "        vertical-align: top;\n",
       "    }\n",
       "\n",
       "    .dataframe thead th {\n",
       "        text-align: right;\n",
       "    }\n",
       "</style>\n",
       "<table border=\"1\" class=\"dataframe\">\n",
       "  <thead>\n",
       "    <tr style=\"text-align: right;\">\n",
       "      <th></th>\n",
       "      <th>id_cliente</th>\n",
       "      <th>renda</th>\n",
       "      <th>profissao</th>\n",
       "      <th>val_compra</th>\n",
       "      <th>val_venda</th>\n",
       "      <th>tm_compra</th>\n",
       "      <th>tm_venda</th>\n",
       "      <th>acoes</th>\n",
       "      <th>acoes_dif</th>\n",
       "      <th>ativo_m1</th>\n",
       "      <th>ligou_cr_m1</th>\n",
       "    </tr>\n",
       "  </thead>\n",
       "  <tbody>\n",
       "    <tr>\n",
       "      <th>0</th>\n",
       "      <td>280249781</td>\n",
       "      <td>De 0 a 5k</td>\n",
       "      <td>B</td>\n",
       "      <td>0.00</td>\n",
       "      <td>2941.26</td>\n",
       "      <td>0.0</td>\n",
       "      <td>29.41</td>\n",
       "      <td>9900</td>\n",
       "      <td>40</td>\n",
       "      <td>True</td>\n",
       "      <td>False</td>\n",
       "    </tr>\n",
       "    <tr>\n",
       "      <th>1</th>\n",
       "      <td>706585147</td>\n",
       "      <td>De 5 a 10k</td>\n",
       "      <td>A</td>\n",
       "      <td>0.00</td>\n",
       "      <td>9388.48</td>\n",
       "      <td>0.0</td>\n",
       "      <td>15.65</td>\n",
       "      <td>7800</td>\n",
       "      <td>20</td>\n",
       "      <td>True</td>\n",
       "      <td>False</td>\n",
       "    </tr>\n",
       "    <tr>\n",
       "      <th>2</th>\n",
       "      <td>968252151</td>\n",
       "      <td>De 0 a 5k</td>\n",
       "      <td>A</td>\n",
       "      <td>0.00</td>\n",
       "      <td>0.00</td>\n",
       "      <td>0.0</td>\n",
       "      <td>0.00</td>\n",
       "      <td>1600</td>\n",
       "      <td>5</td>\n",
       "      <td>False</td>\n",
       "      <td>True</td>\n",
       "    </tr>\n",
       "    <tr>\n",
       "      <th>3</th>\n",
       "      <td>395769633</td>\n",
       "      <td>De 5 a 10k</td>\n",
       "      <td>C</td>\n",
       "      <td>0.00</td>\n",
       "      <td>4488.88</td>\n",
       "      <td>0.0</td>\n",
       "      <td>11.22</td>\n",
       "      <td>7200</td>\n",
       "      <td>30</td>\n",
       "      <td>True</td>\n",
       "      <td>False</td>\n",
       "    </tr>\n",
       "    <tr>\n",
       "      <th>4</th>\n",
       "      <td>909158440</td>\n",
       "      <td>De 5 a 10k</td>\n",
       "      <td>B</td>\n",
       "      <td>3340.07</td>\n",
       "      <td>4143.59</td>\n",
       "      <td>16.7</td>\n",
       "      <td>20.72</td>\n",
       "      <td>4400</td>\n",
       "      <td>10</td>\n",
       "      <td>True</td>\n",
       "      <td>True</td>\n",
       "    </tr>\n",
       "  </tbody>\n",
       "</table>\n",
       "</div>"
      ],
      "text/plain": [
       "  id_cliente       renda profissao  val_compra  val_venda  tm_compra  \\\n",
       "0  280249781   De 0 a 5k         B        0.00    2941.26        0.0   \n",
       "1  706585147  De 5 a 10k         A        0.00    9388.48        0.0   \n",
       "2  968252151   De 0 a 5k         A        0.00       0.00        0.0   \n",
       "3  395769633  De 5 a 10k         C        0.00    4488.88        0.0   \n",
       "4  909158440  De 5 a 10k         B     3340.07    4143.59       16.7   \n",
       "\n",
       "   tm_venda  acoes  acoes_dif  ativo_m1  ligou_cr_m1  \n",
       "0     29.41   9900         40      True        False  \n",
       "1     15.65   7800         20      True        False  \n",
       "2      0.00   1600          5     False         True  \n",
       "3     11.22   7200         30      True        False  \n",
       "4     20.72   4400         10      True         True  "
      ]
     },
     "execution_count": 12,
     "metadata": {},
     "output_type": "execute_result"
    }
   ],
   "source": [
    "df.head()"
   ]
  },
  {
   "cell_type": "code",
   "execution_count": 13,
   "metadata": {},
   "outputs": [
    {
     "name": "stdout",
     "output_type": "stream",
     "text": [
      "<class 'pandas.core.frame.DataFrame'>\n",
      "RangeIndex: 10000 entries, 0 to 9999\n",
      "Data columns (total 11 columns):\n",
      " #   Column       Non-Null Count  Dtype   \n",
      "---  ------       --------------  -----   \n",
      " 0   id_cliente   10000 non-null  object  \n",
      " 1   renda        10000 non-null  category\n",
      " 2   profissao    10000 non-null  category\n",
      " 3   val_compra   10000 non-null  float64 \n",
      " 4   val_venda    10000 non-null  float64 \n",
      " 5   tm_compra    10000 non-null  float64 \n",
      " 6   tm_venda     10000 non-null  float64 \n",
      " 7   acoes        10000 non-null  int64   \n",
      " 8   acoes_dif    10000 non-null  int64   \n",
      " 9   ativo_m1     10000 non-null  bool    \n",
      " 10  ligou_cr_m1  10000 non-null  bool    \n",
      "dtypes: bool(2), category(2), float64(4), int64(2), object(1)\n",
      "memory usage: 586.4+ KB\n"
     ]
    }
   ],
   "source": [
    "df.info() # note that there are no more null values"
   ]
  },
  {
   "cell_type": "markdown",
   "metadata": {},
   "source": [
    "### New features"
   ]
  },
  {
   "cell_type": "markdown",
   "metadata": {},
   "source": [
    "Three new columns that we can take intelligence from: number of shares bought, number of shares sold, and the difference between the two - by calculating:\n",
    "\n",
    "\\begin{equation*}\n",
    "qt\\_compras =\n",
    "\\frac{val\\_compra}{tm\\_compra}\n",
    "\\quad\\quad \n",
    "qt\\_vendas =\n",
    "\\frac{val\\_venda}{tm\\_venda}\n",
    "\\quad\\quad \n",
    "\\end{equation*}\n",
    "<br>\n",
    "\\begin{align}\n",
    "\\mathbf{dif\\_cv} & = \\mathbf{qt\\_compras}-\\mathbf{qt\\_vendas}\n",
    "\\end{align}\n",
    "<br>"
   ]
  },
  {
   "cell_type": "code",
   "execution_count": 14,
   "metadata": {},
   "outputs": [],
   "source": [
    "# applying forums and creating columns\n",
    "df['qt_compras'] = (df['val_compra'] / df['tm_compra']).round(2)\n",
    "df['qt_vendas'] = (df['val_venda'] / df['tm_venda']).round(2)\n",
    "\n",
    "# Replace null values in 'qt_compras' and 'qt_vendas' to 0\n",
    "df.update(df[['qt_compras','qt_vendas']].fillna(0))\n",
    "\n",
    "df['dif_cv'] = (df['qt_compras'] - df['qt_vendas'])"
   ]
  },
  {
   "cell_type": "code",
   "execution_count": 15,
   "metadata": {},
   "outputs": [
    {
     "data": {
      "text/html": [
       "<div>\n",
       "<style scoped>\n",
       "    .dataframe tbody tr th:only-of-type {\n",
       "        vertical-align: middle;\n",
       "    }\n",
       "\n",
       "    .dataframe tbody tr th {\n",
       "        vertical-align: top;\n",
       "    }\n",
       "\n",
       "    .dataframe thead th {\n",
       "        text-align: right;\n",
       "    }\n",
       "</style>\n",
       "<table border=\"1\" class=\"dataframe\">\n",
       "  <thead>\n",
       "    <tr style=\"text-align: right;\">\n",
       "      <th></th>\n",
       "      <th>id_cliente</th>\n",
       "      <th>renda</th>\n",
       "      <th>profissao</th>\n",
       "      <th>qt_compras</th>\n",
       "      <th>val_compra</th>\n",
       "      <th>tm_compra</th>\n",
       "      <th>qt_vendas</th>\n",
       "      <th>val_venda</th>\n",
       "      <th>tm_venda</th>\n",
       "      <th>dif_cv</th>\n",
       "      <th>acoes</th>\n",
       "      <th>acoes_dif</th>\n",
       "      <th>ativo_m1</th>\n",
       "      <th>ligou_cr_m1</th>\n",
       "    </tr>\n",
       "  </thead>\n",
       "  <tbody>\n",
       "    <tr>\n",
       "      <th>0</th>\n",
       "      <td>280249781</td>\n",
       "      <td>De 0 a 5k</td>\n",
       "      <td>B</td>\n",
       "      <td>0.0</td>\n",
       "      <td>0.0</td>\n",
       "      <td>0.0</td>\n",
       "      <td>100.01</td>\n",
       "      <td>2941.26</td>\n",
       "      <td>29.41</td>\n",
       "      <td>-100.01</td>\n",
       "      <td>9900</td>\n",
       "      <td>40</td>\n",
       "      <td>True</td>\n",
       "      <td>False</td>\n",
       "    </tr>\n",
       "    <tr>\n",
       "      <th>1</th>\n",
       "      <td>706585147</td>\n",
       "      <td>De 5 a 10k</td>\n",
       "      <td>A</td>\n",
       "      <td>0.0</td>\n",
       "      <td>0.0</td>\n",
       "      <td>0.0</td>\n",
       "      <td>599.90</td>\n",
       "      <td>9388.48</td>\n",
       "      <td>15.65</td>\n",
       "      <td>-599.90</td>\n",
       "      <td>7800</td>\n",
       "      <td>20</td>\n",
       "      <td>True</td>\n",
       "      <td>False</td>\n",
       "    </tr>\n",
       "  </tbody>\n",
       "</table>\n",
       "</div>"
      ],
      "text/plain": [
       "  id_cliente       renda profissao  qt_compras  val_compra  tm_compra  \\\n",
       "0  280249781   De 0 a 5k         B         0.0         0.0        0.0   \n",
       "1  706585147  De 5 a 10k         A         0.0         0.0        0.0   \n",
       "\n",
       "   qt_vendas  val_venda  tm_venda  dif_cv  acoes  acoes_dif  ativo_m1  \\\n",
       "0     100.01    2941.26     29.41 -100.01   9900         40      True   \n",
       "1     599.90    9388.48     15.65 -599.90   7800         20      True   \n",
       "\n",
       "   ligou_cr_m1  \n",
       "0        False  \n",
       "1        False  "
      ]
     },
     "execution_count": 15,
     "metadata": {},
     "output_type": "execute_result"
    }
   ],
   "source": [
    "# organizing df columns\n",
    "df = df[['id_cliente','renda', 'profissao', 'qt_compras', 'val_compra','tm_compra','qt_vendas',\n",
    "               'val_venda','tm_venda','dif_cv','acoes','acoes_dif','ativo_m1','ligou_cr_m1']]\n",
    "df.head(2)"
   ]
  },
  {
   "cell_type": "markdown",
   "metadata": {},
   "source": [
    "**Saving the file for exploratory analysis**"
   ]
  },
  {
   "cell_type": "code",
   "execution_count": 16,
   "metadata": {},
   "outputs": [],
   "source": [
    "df.to_csv(\"df_cleaned.csv\", date_format='%Y-%m-%d', index=False)"
   ]
  }
 ],
 "metadata": {
  "kernelspec": {
   "display_name": "Python 3",
   "language": "python",
   "name": "python3"
  },
  "language_info": {
   "codemirror_mode": {
    "name": "ipython",
    "version": 3
   },
   "file_extension": ".py",
   "mimetype": "text/x-python",
   "name": "python",
   "nbconvert_exporter": "python",
   "pygments_lexer": "ipython3",
   "version": "3.8.5"
  }
 },
 "nbformat": 4,
 "nbformat_minor": 4
}
